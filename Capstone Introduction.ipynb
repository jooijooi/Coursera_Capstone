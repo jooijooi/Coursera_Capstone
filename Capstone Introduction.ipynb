{
 "cells": [
  {
   "cell_type": "markdown",
   "metadata": {},
   "source": [
    "<h1> The Search for Suitable EV Charging Locations </h1> "
   ]
  },
  {
   "cell_type": "markdown",
   "metadata": {},
   "source": [
    "## Table of Contents\n",
    "\n",
    "- [Introduction: Business Problem](#1.-Introduction:-Business-Problem-/-Issue)\n",
    "\n",
    "-  [Data](#2.-Data)"
   ]
  },
  {
   "cell_type": "markdown",
   "metadata": {},
   "source": [
    "# 1. Introduction: Business Problem / Issue"
   ]
  },
  {
   "cell_type": "markdown",
   "metadata": {},
   "source": [
    "There are challenges in coming up with suitable **Electrical Vehicle (EV) Charging Point locations** in Singapore which is land scarce and high density. \n",
    "\n",
    "Unlike in the United States , most Singaporeans do not have the luxury of charging their EVs in their own garages. Hence the **potential congestion** caused many cars coming back from work to a HDB carpark could create serious bottlenecks as these cars wait for availability of limited charging units available. Furthermore, charging points in HDB carparks are likely be slow chargers which require time to charge.\n",
    "\n",
    "An alternative strategy to charging while EV drivers sleep, could be charging while EV drivers are out running errands, fetching kids to enrichment classes, having a meal, doing grocery shopping or even when they are in the office on selected days. \n",
    "\n",
    "The **optimal distribution** of EV charging points is just as important as their number as the perceived lack of convenient charging points for potential EV drivers based a daily or regular routine around where they travel or live, could affect the perception of EVs as a viable and convenient alternative to internal combustion engine (ICE) cars and \n",
    "impact the the overall adoption of EV cars in Singapore.\n",
    "\n",
    "Hence, data analytics, including the leveraging of Foursquare location data will be undertaken to locate suitable EV Charging Point locations in HDB carparks.\n",
    "\n"
   ]
  },
  {
   "cell_type": "markdown",
   "metadata": {},
   "source": [
    "### Background"
   ]
  },
  {
   "cell_type": "markdown",
   "metadata": {},
   "source": [
    "During the Budget 2021, the government announced the **goal of achieving 60,000 EV charging points**, at public carparks (40,000) and private premises (20,000) by 2030, as well as other measures to support the adoption of electric vehicles (EVs). These include lowering the Additional Registration Fee (ARF) floor for fully electric cars and adjusting road tax for electric cars.\n",
    "\n",
    "By 2025, eight “EV-Ready Towns” across Singapore would be fitted with EV charging points (**Ang Mo Kio, Bedok, Choa Chu Kang, Jurong West, Punggol, Queenstown, Sembawang and Tengah**).These locations are well spread out across the island, and have a high concentration of car parks with existing electrical capacity to support the deployment of charging points. \n",
    "\n"
   ]
  },
  {
   "cell_type": "markdown",
   "metadata": {},
   "source": [
    "### Stakeholders"
   ]
  },
  {
   "cell_type": "markdown",
   "metadata": {},
   "source": [
    "This issue of locating suitable charging points will be of concern to **current and potential EV drivers** as well as **private sector industry players involved in shaping the EV charging ecosystem**. "
   ]
  },
  {
   "cell_type": "markdown",
   "metadata": {},
   "source": [
    "# 2. Data"
   ]
  },
  {
   "cell_type": "markdown",
   "metadata": {},
   "source": [
    "### Description of the data and how it will be used to solve the problem\n",
    "\n",
    "In this project, seven data sets will be used to solve the problem of locating suitable locations for EV Charging Points.\n",
    "\n",
    "The common variable between most of the datasets is the **Planning Areas**. \n",
    "\n",
    "To facilitate urban planning, the Urban Redevelopment Authority (URA) divides Singapore into planning regions, planning areas and subzones. The subzones within each Planning Area are usually centred around a focal point such as a neighbourhood centre or activity node. These planning areas are based on the Master Plan, a forward looking guiding plan for Singapore's development in the medium term over the next 10 to 15 years. Hence, planning boundaries may not coincide with existing developments for some areas.\n",
    "\n",
    "The distribution of HDB Carparks will be visualized using their coordinates.\n",
    "\n",
    "To locate the Planning Areas where EV Charging Points are most needed by drivers and potential drivers of EVs, we will be looking at **areas with the most number of HDB dwelling units as well as employed residents who travel to work by car only, taking into account both their workplace and residential areas**. \n",
    "\n",
    "Planning Areas will also be analyzed by looking at **demographics** such as age range which could inform on the likelihood of these areas having current and potential EV car drivers. \n",
    "\n",
    "**Foursquare location data** will also be used to locate the most common venues in these areas as well as those **near HDB parking lots**, which could inform on the convenience and practicality of allowing the car to be parked for a few hours in these locations.\n",
    "\n",
    "The indicative polygon of subzone boundary in Singapore will be also be used in some of these visualizations.\n",
    "\n",
    "\n",
    "\n",
    "<br>\n",
    "The following **data sets** will be used in the analyis:\n",
    "\n",
    " 1) Location of existing HDB carparks : [hdb-carpark-information.csv]\n",
    "[hdb-carpark-information.csv]:https://data.gov.sg\n",
    " 2) Total number of unit dwellings by Planning Area : [hdb-property-information.csv]\n",
    "[hdb-property-information.csv]:https://data.gov.sg\n",
    " 3) Total number of employed residents (who only use a car) by Planning Area(Workplace) : [t111-118 .xlsx]\n",
    "[t111-118 .xlsx]:https://www.singstat.gov.sg/\n",
    " 4) Total number of employed residents (who only use a car) by Planning Region of Residence : [t111-118 .xlsx]\n",
    "[t111-118 .xlsx]:https://www.singstat.gov.sg/\n",
    " 5) Total number and percentage of residents (aged 24-65 years) by Planning Area (Residence) : [resident_population.xlsx]\n",
    "[resident_population.xlsx]:https://www.singstat.gov.sg/\n",
    " 6) Singapore Master Plan : [master-plan-2019-subzone-boundary-no-sea-kml.geojson]\n",
    "[master-plan-2019-subzone-boundary-no-sea-kml.geojson]:https://data.gov.sg\n",
    " 7) Foursquare location data of nearby places around carparks and within Planning Areas\n",
    "\n",
    "\n",
    "**Related Links:**\n",
    "<br>\n",
    "-  https://www.lta.gov.sg/content/ltagov/en/industry_innovations/technologies/electric_vehicles.html/#ev_charger_deployment\n",
    "- https://www.lta.gov.sg/content/ltagov/en/newsroom/2021/3/news-release/Accelerating_nationwide_deployment_of_electric_vehicle_charging_points.html\n",
    "- https://www.lta.gov.sg/content/ltagov/en/newsroom/2021/4/news-releases/Launch_of_RFI_on_EV_charging_infrastructure.html\n",
    "- https://vulcanpost.com/759064/why-some-singaporeans-are-still-saying-no-to-electric-vehicles/\n"
   ]
  },
  {
   "cell_type": "code",
   "execution_count": null,
   "metadata": {},
   "outputs": [],
   "source": []
  }
 ],
 "metadata": {
  "kernelspec": {
   "display_name": "Python 3",
   "language": "python",
   "name": "python3"
  },
  "language_info": {
   "codemirror_mode": {
    "name": "ipython",
    "version": 3
   },
   "file_extension": ".py",
   "mimetype": "text/x-python",
   "name": "python",
   "nbconvert_exporter": "python",
   "pygments_lexer": "ipython3",
   "version": "3.7.6"
  }
 },
 "nbformat": 4,
 "nbformat_minor": 4
}
